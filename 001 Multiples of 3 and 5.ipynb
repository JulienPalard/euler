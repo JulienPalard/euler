{
 "metadata": {
  "name": "",
  "signature": "sha256:7059e2fe2f0c6be3360dda6605edbbfd6f81b9bcf3c62c8f8baa7e4cd6f278bb"
 },
 "nbformat": 3,
 "nbformat_minor": 0,
 "worksheets": [
  {
   "cells": [
    {
     "cell_type": "markdown",
     "metadata": {},
     "source": [
      "# Project Euler :: problem 001\n",
      "\n",
      "**Multiples of 3 and 5**\n",
      "\n",
      "<https://projecteuler.net/problem=1>\n",
      "\n",
      "If we list all the natural numbers below 10 that are multiples of 3 or 5, we get 3, 5, 6 and 9. The sum of these multiples is 23.\n",
      "\n",
      "Find the sum of all the multiples of 3 or 5 below 1000."
     ]
    },
    {
     "cell_type": "code",
     "collapsed": false,
     "input": [
      "def euler_001_0(num):\n",
      "    # basic approach\n",
      "    res = 0\n",
      "    for n in range(num)[1:]:\n",
      "        if 0 in [n % x for x in [3, 5]]:\n",
      "            res += n\n",
      "    return res\n",
      "euler_001_0(1000)"
     ],
     "language": "python",
     "metadata": {},
     "outputs": [
      {
       "metadata": {},
       "output_type": "pyout",
       "prompt_number": 47,
       "text": [
        "233168"
       ]
      }
     ],
     "prompt_number": 47
    },
    {
     "cell_type": "code",
     "collapsed": false,
     "input": [
      "%timeit euler_001_0(100000)"
     ],
     "language": "python",
     "metadata": {},
     "outputs": [
      {
       "output_type": "stream",
       "stream": "stdout",
       "text": [
        "10 loops, best of 3: 84.5 ms per loop\n"
       ]
      }
     ],
     "prompt_number": 48
    },
    {
     "cell_type": "code",
     "collapsed": false,
     "input": [
      "def euler_001_1(num):\n",
      "    # don't test %3 if %5 == 0 --> generator\n",
      "    res = 0\n",
      "    for n in range(num)[1:]:\n",
      "        for test in (n % x for x in [3, 5]):\n",
      "            if test == 0:\n",
      "                res += n\n",
      "                break\n",
      "    return sum(res)\n",
      "euler_001_1(1000)"
     ],
     "language": "python",
     "metadata": {},
     "outputs": [
      {
       "metadata": {},
       "output_type": "pyout",
       "prompt_number": 165,
       "text": [
        "233168"
       ]
      }
     ],
     "prompt_number": 165
    },
    {
     "cell_type": "code",
     "collapsed": false,
     "input": [
      "%timeit euler_001_1(100000)"
     ],
     "language": "python",
     "metadata": {},
     "outputs": [
      {
       "output_type": "stream",
       "stream": "stdout",
       "text": [
        "10 loops, best of 3: 86.2 ms per loop\n"
       ]
      }
     ],
     "prompt_number": 166
    },
    {
     "cell_type": "code",
     "collapsed": false,
     "input": [
      "def euler_001_2(num):\n",
      "    # %3 + %5 - %15\n",
      "    trois = sum([x for x in range(num)[1:] if x % 3 == 0])\n",
      "    cinq = sum([x for x in range(num)[1:] if x % 5 == 0])\n",
      "    quinze = sum([x for x in range(num)[1:] if x % 15 == 0])\n",
      "    return trois + cinq - quinze\n",
      "euler_001_2(1000)"
     ],
     "language": "python",
     "metadata": {},
     "outputs": [
      {
       "metadata": {},
       "output_type": "pyout",
       "prompt_number": 167,
       "text": [
        "233168"
       ]
      }
     ],
     "prompt_number": 167
    },
    {
     "cell_type": "code",
     "collapsed": false,
     "input": [
      "%timeit euler_001_2(100000)"
     ],
     "language": "python",
     "metadata": {},
     "outputs": [
      {
       "output_type": "stream",
       "stream": "stdout",
       "text": [
        "10 loops, best of 3: 38 ms per loop\n"
       ]
      }
     ],
     "prompt_number": 168
    },
    {
     "cell_type": "code",
     "collapsed": false,
     "input": [
      "def euler_001_3(num):\n",
      "    return sum([x for x in range(num)[1:] if x % 3 == 0 or x % 5 == 0])\n",
      "euler_001_3(1000)"
     ],
     "language": "python",
     "metadata": {},
     "outputs": [
      {
       "metadata": {},
       "output_type": "pyout",
       "prompt_number": 169,
       "text": [
        "233168"
       ]
      }
     ],
     "prompt_number": 169
    },
    {
     "cell_type": "code",
     "collapsed": false,
     "input": [
      "%timeit euler_001_3(100000)"
     ],
     "language": "python",
     "metadata": {},
     "outputs": [
      {
       "output_type": "stream",
       "stream": "stdout",
       "text": [
        "10 loops, best of 3: 22.8 ms per loop\n"
       ]
      }
     ],
     "prompt_number": 170
    },
    {
     "cell_type": "code",
     "collapsed": false,
     "input": [
      "def euler_001_4(num):\n",
      "    return sum([n for n in range(num)[1:] if 0 in [n % x for x in [3, 5]]])\n",
      "euler_001_4(1000)"
     ],
     "language": "python",
     "metadata": {},
     "outputs": [
      {
       "metadata": {},
       "output_type": "pyout",
       "prompt_number": 60,
       "text": [
        "233168"
       ]
      }
     ],
     "prompt_number": 60
    },
    {
     "cell_type": "code",
     "collapsed": false,
     "input": [
      "%timeit euler_001_4(100000)"
     ],
     "language": "python",
     "metadata": {},
     "outputs": [
      {
       "output_type": "stream",
       "stream": "stdout",
       "text": [
        "10 loops, best of 3: 63.9 ms per loop\n"
       ]
      }
     ],
     "prompt_number": 58
    },
    {
     "cell_type": "code",
     "collapsed": false,
     "input": [
      "from builtins import any\n",
      "def euler_001_6(num):\n",
      "    # use any\n",
      "    res = 0\n",
      "    for n in range(num)[1:]:\n",
      "        if any(n % x == 0 for x in [3, 5]):\n",
      "            res += n\n",
      "    return res\n",
      "euler_001_6(1000)"
     ],
     "language": "python",
     "metadata": {},
     "outputs": [
      {
       "metadata": {},
       "output_type": "pyout",
       "prompt_number": 42,
       "text": [
        "233168"
       ]
      }
     ],
     "prompt_number": 42
    },
    {
     "cell_type": "code",
     "collapsed": false,
     "input": [
      "%timeit euler_001_6(100000)"
     ],
     "language": "python",
     "metadata": {},
     "outputs": [
      {
       "output_type": "stream",
       "stream": "stdout",
       "text": [
        "10 loops, best of 3: 86.4 ms per loop\n"
       ]
      }
     ],
     "prompt_number": 43
    },
    {
     "cell_type": "code",
     "collapsed": false,
     "input": [
      "def euler_001_7(num):\n",
      "    # tuple instead of list !!! 20ms mthfkr !!!\n",
      "    res = 0\n",
      "    for n in range(num)[1:]:\n",
      "        if 0 in [n % x for x in (3,5)]:\n",
      "            res += n\n",
      "    return res\n",
      "euler_001_7(1000)"
     ],
     "language": "python",
     "metadata": {},
     "outputs": [
      {
       "metadata": {},
       "output_type": "pyout",
       "prompt_number": 55,
       "text": [
        "233168"
       ]
      }
     ],
     "prompt_number": 55
    },
    {
     "cell_type": "code",
     "collapsed": false,
     "input": [
      "%timeit euler_001_7(100000)"
     ],
     "language": "python",
     "metadata": {},
     "outputs": [
      {
       "output_type": "stream",
       "stream": "stdout",
       "text": [
        "10 loops, best of 3: 61.6 ms per loop\n"
       ]
      }
     ],
     "prompt_number": 56
    },
    {
     "cell_type": "markdown",
     "metadata": {},
     "source": [
      "### Does Maths helps ?\n",
      "\n",
      "Or does paper-based methods helps silico ? Let's see with [Arithmetic Series](https://en.wikipedia.org/wiki/Arithmetic_progression).\n",
      "\n",
      "$$S_n = \\frac{n(a_1+a_n)}{2}$$\n"
     ]
    },
    {
     "cell_type": "code",
     "collapsed": false,
     "input": [
      "from operator import mul\n",
      "from functools import reduce\n",
      "\n",
      "def arithmetic_series(n, first, last):\n",
      "    return (n*(first + last)) // 2\n",
      "\n",
      "def inverse_modulo(num, div):\n",
      "    return num - (num % div)\n",
      "\n",
      "def euler_001_5(num, factors):\n",
      "    num = num - 1\n",
      "    res = 0\n",
      "    for fa in factors:\n",
      "        res += arithmetic_series(num//fa, fa, inverse_modulo(num, fa))\n",
      "    fa = reduce(mul, factors)\n",
      "    res -= arithmetic_series(num//fa, fa, inverse_modulo(num, fa))\n",
      "    return res\n",
      "\n",
      "euler_001_5(1000, [3, 5])"
     ],
     "language": "python",
     "metadata": {},
     "outputs": [
      {
       "metadata": {},
       "output_type": "pyout",
       "prompt_number": 173,
       "text": [
        "233168"
       ]
      }
     ],
     "prompt_number": 173
    },
    {
     "cell_type": "code",
     "collapsed": false,
     "input": [
      "%timeit euler_001_5(100000, [3, 5])"
     ],
     "language": "python",
     "metadata": {},
     "outputs": [
      {
       "output_type": "stream",
       "stream": "stdout",
       "text": [
        "100000 loops, best of 3: 2.71 \u00b5s per loop\n"
       ]
      }
     ],
     "prompt_number": 174
    },
    {
     "cell_type": "markdown",
     "metadata": {},
     "source": [
      "### Does it scale ?"
     ]
    },
    {
     "cell_type": "code",
     "collapsed": false,
     "input": [
      "funcs = [euler_001_0, euler_001_1, euler_001_2, euler_001_3, euler_001_4, euler_001_5]\n",
      "limits = [10, 100, 1000, 10000, 100000, 1000000, 10000000]"
     ],
     "language": "python",
     "metadata": {},
     "outputs": [],
     "prompt_number": 185
    },
    {
     "cell_type": "code",
     "collapsed": false,
     "input": [
      "import pandas as pd\n",
      "import numpy as np\n",
      "A = np.zeros((len(funcs),len(limits)), dtype=int).tolist()\n",
      "\n",
      "for j in range(len(limits)):\n",
      "    for i in range(len(funcs)):\n",
      "        if i == 5:\n",
      "            a = %timeit -o funcs[i](limits[j], [3, 5])\n",
      "        else:\n",
      "            a = %timeit -o funcs[i](limits[j])\n",
      "        A[i][j] = a.best\n",
      "\n",
      "df = pd.DataFrame(A, index=[f.__name__ for f in funcs], columns=limits)"
     ],
     "language": "python",
     "metadata": {},
     "outputs": [
      {
       "output_type": "stream",
       "stream": "stdout",
       "text": [
        "100000 loops, best of 3: 8.76 \u00b5s per loop\n",
        "100000 loops, best of 3: 19.6 \u00b5s per loop"
       ]
      },
      {
       "output_type": "stream",
       "stream": "stdout",
       "text": [
        "\n",
        "10000 loops, best of 3: 44.4 \u00b5s per loop"
       ]
      },
      {
       "output_type": "stream",
       "stream": "stdout",
       "text": [
        "\n",
        "100000 loops, best of 3: 14.3 \u00b5s per loop"
       ]
      },
      {
       "output_type": "stream",
       "stream": "stdout",
       "text": [
        "\n",
        "10000 loops, best of 3: 21.6 \u00b5s per loop"
       ]
      },
      {
       "output_type": "stream",
       "stream": "stdout",
       "text": [
        "\n",
        "100000 loops, best of 3: 2.42 \u00b5s per loop"
       ]
      },
      {
       "output_type": "stream",
       "stream": "stdout",
       "text": [
        "\n",
        "10000 loops, best of 3: 85.5 \u00b5s per loop"
       ]
      },
      {
       "output_type": "stream",
       "stream": "stdout",
       "text": [
        "\n",
        "10000 loops, best of 3: 95.6 \u00b5s per loop"
       ]
      },
      {
       "output_type": "stream",
       "stream": "stdout",
       "text": [
        "\n",
        "10000 loops, best of 3: 75 \u00b5s per loop"
       ]
      },
      {
       "output_type": "stream",
       "stream": "stdout",
       "text": [
        "\n",
        "10000 loops, best of 3: 35.4 \u00b5s per loop"
       ]
      },
      {
       "output_type": "stream",
       "stream": "stdout",
       "text": [
        "\n",
        "10000 loops, best of 3: 99.1 \u00b5s per loop"
       ]
      },
      {
       "output_type": "stream",
       "stream": "stdout",
       "text": [
        "\n",
        "100000 loops, best of 3: 2.67 \u00b5s per loop"
       ]
      },
      {
       "output_type": "stream",
       "stream": "stdout",
       "text": [
        "\n",
        "1000 loops, best of 3: 861 \u00b5s per loop"
       ]
      },
      {
       "output_type": "stream",
       "stream": "stdout",
       "text": [
        "\n",
        "1000 loops, best of 3: 884 \u00b5s per loop"
       ]
      },
      {
       "output_type": "stream",
       "stream": "stdout",
       "text": [
        "\n",
        "1000 loops, best of 3: 420 \u00b5s per loop"
       ]
      },
      {
       "output_type": "stream",
       "stream": "stdout",
       "text": [
        "\n",
        "1000 loops, best of 3: 233 \u00b5s per loop"
       ]
      },
      {
       "output_type": "stream",
       "stream": "stdout",
       "text": [
        "\n",
        "1000 loops, best of 3: 863 \u00b5s per loop"
       ]
      },
      {
       "output_type": "stream",
       "stream": "stdout",
       "text": [
        "\n",
        "100000 loops, best of 3: 2.76 \u00b5s per loop"
       ]
      },
      {
       "output_type": "stream",
       "stream": "stdout",
       "text": [
        "\n",
        "100 loops, best of 3: 8.69 ms per loop"
       ]
      },
      {
       "output_type": "stream",
       "stream": "stdout",
       "text": [
        "\n",
        "100 loops, best of 3: 8.75 ms per loop"
       ]
      },
      {
       "output_type": "stream",
       "stream": "stdout",
       "text": [
        "\n",
        "100 loops, best of 3: 3.9 ms per loop"
       ]
      },
      {
       "output_type": "stream",
       "stream": "stdout",
       "text": [
        "\n",
        "100 loops, best of 3: 2.21 ms per loop"
       ]
      },
      {
       "output_type": "stream",
       "stream": "stdout",
       "text": [
        "\n",
        "100 loops, best of 3: 8.33 ms per loop"
       ]
      },
      {
       "output_type": "stream",
       "stream": "stdout",
       "text": [
        "\n",
        "100000 loops, best of 3: 2.71 \u00b5s per loop"
       ]
      },
      {
       "output_type": "stream",
       "stream": "stdout",
       "text": [
        "\n",
        "10 loops, best of 3: 86.6 ms per loop"
       ]
      },
      {
       "output_type": "stream",
       "stream": "stdout",
       "text": [
        "\n",
        "10 loops, best of 3: 86.4 ms per loop"
       ]
      },
      {
       "output_type": "stream",
       "stream": "stdout",
       "text": [
        "\n",
        "10 loops, best of 3: 37.7 ms per loop"
       ]
      },
      {
       "output_type": "stream",
       "stream": "stdout",
       "text": [
        "\n",
        "10 loops, best of 3: 22.2 ms per loop"
       ]
      },
      {
       "output_type": "stream",
       "stream": "stdout",
       "text": [
        "\n",
        "10 loops, best of 3: 83.9 ms per loop"
       ]
      },
      {
       "output_type": "stream",
       "stream": "stdout",
       "text": [
        "\n",
        "100000 loops, best of 3: 2.8 \u00b5s per loop"
       ]
      },
      {
       "output_type": "stream",
       "stream": "stdout",
       "text": [
        "\n",
        "1 loops, best of 3: 857 ms per loop"
       ]
      },
      {
       "output_type": "stream",
       "stream": "stdout",
       "text": [
        "\n",
        "1 loops, best of 3: 861 ms per loop"
       ]
      },
      {
       "output_type": "stream",
       "stream": "stdout",
       "text": [
        "\n",
        "1 loops, best of 3: 390 ms per loop"
       ]
      },
      {
       "output_type": "stream",
       "stream": "stdout",
       "text": [
        "\n",
        "1 loops, best of 3: 231 ms per loop"
       ]
      },
      {
       "output_type": "stream",
       "stream": "stdout",
       "text": [
        "\n",
        "1 loops, best of 3: 861 ms per loop"
       ]
      },
      {
       "output_type": "stream",
       "stream": "stdout",
       "text": [
        "\n",
        "100000 loops, best of 3: 2.84 \u00b5s per loop"
       ]
      },
      {
       "output_type": "stream",
       "stream": "stdout",
       "text": [
        "\n",
        "1 loops, best of 3: 8.73 s per loop"
       ]
      },
      {
       "output_type": "stream",
       "stream": "stdout",
       "text": [
        "\n",
        "1 loops, best of 3: 8.63 s per loop"
       ]
      },
      {
       "output_type": "stream",
       "stream": "stdout",
       "text": [
        "\n",
        "1 loops, best of 3: 3.95 s per loop"
       ]
      },
      {
       "output_type": "stream",
       "stream": "stdout",
       "text": [
        "\n",
        "1 loops, best of 3: 2.32 s per loop"
       ]
      },
      {
       "output_type": "stream",
       "stream": "stdout",
       "text": [
        "\n",
        "1 loops, best of 3: 8.85 s per loop"
       ]
      },
      {
       "output_type": "stream",
       "stream": "stdout",
       "text": [
        "\n",
        "100000 loops, best of 3: 2.83 \u00b5s per loop"
       ]
      },
      {
       "output_type": "stream",
       "stream": "stdout",
       "text": [
        "\n"
       ]
      }
     ],
     "prompt_number": 176
    },
    {
     "cell_type": "code",
     "collapsed": false,
     "input": [
      "df"
     ],
     "language": "python",
     "metadata": {},
     "outputs": [
      {
       "html": [
        "<div style=\"max-height:1000px;max-width:1500px;overflow:auto;\">\n",
        "<table border=\"1\" class=\"dataframe\">\n",
        "  <thead>\n",
        "    <tr style=\"text-align: right;\">\n",
        "      <th></th>\n",
        "      <th>10</th>\n",
        "      <th>100</th>\n",
        "      <th>1000</th>\n",
        "      <th>10000</th>\n",
        "      <th>100000</th>\n",
        "      <th>1000000</th>\n",
        "      <th>10000000</th>\n",
        "    </tr>\n",
        "  </thead>\n",
        "  <tbody>\n",
        "    <tr>\n",
        "      <th>euler_001_0</th>\n",
        "      <td> 0.000009</td>\n",
        "      <td> 0.000086</td>\n",
        "      <td> 0.000861</td>\n",
        "      <td> 0.008687</td>\n",
        "      <td> 0.086594</td>\n",
        "      <td> 0.857047</td>\n",
        "      <td> 8.732619</td>\n",
        "    </tr>\n",
        "    <tr>\n",
        "      <th>euler_001_1</th>\n",
        "      <td> 0.000020</td>\n",
        "      <td> 0.000096</td>\n",
        "      <td> 0.000884</td>\n",
        "      <td> 0.008752</td>\n",
        "      <td> 0.086390</td>\n",
        "      <td> 0.861122</td>\n",
        "      <td> 8.632829</td>\n",
        "    </tr>\n",
        "    <tr>\n",
        "      <th>euler_001_2</th>\n",
        "      <td> 0.000044</td>\n",
        "      <td> 0.000075</td>\n",
        "      <td> 0.000420</td>\n",
        "      <td> 0.003897</td>\n",
        "      <td> 0.037727</td>\n",
        "      <td> 0.389774</td>\n",
        "      <td> 3.948423</td>\n",
        "    </tr>\n",
        "    <tr>\n",
        "      <th>euler_001_3</th>\n",
        "      <td> 0.000014</td>\n",
        "      <td> 0.000035</td>\n",
        "      <td> 0.000233</td>\n",
        "      <td> 0.002206</td>\n",
        "      <td> 0.022226</td>\n",
        "      <td> 0.231498</td>\n",
        "      <td> 2.316692</td>\n",
        "    </tr>\n",
        "    <tr>\n",
        "      <th>euler_001_4</th>\n",
        "      <td> 0.000022</td>\n",
        "      <td> 0.000099</td>\n",
        "      <td> 0.000863</td>\n",
        "      <td> 0.008334</td>\n",
        "      <td> 0.083874</td>\n",
        "      <td> 0.860808</td>\n",
        "      <td> 8.847628</td>\n",
        "    </tr>\n",
        "    <tr>\n",
        "      <th>euler_001_5</th>\n",
        "      <td> 0.000002</td>\n",
        "      <td> 0.000003</td>\n",
        "      <td> 0.000003</td>\n",
        "      <td> 0.000003</td>\n",
        "      <td> 0.000003</td>\n",
        "      <td> 0.000003</td>\n",
        "      <td> 0.000003</td>\n",
        "    </tr>\n",
        "  </tbody>\n",
        "</table>\n",
        "</div>"
       ],
       "metadata": {},
       "output_type": "pyout",
       "prompt_number": 183,
       "text": [
        "             10        100       1000      10000     100000    1000000   \\\n",
        "euler_001_0  0.000009  0.000086  0.000861  0.008687  0.086594  0.857047   \n",
        "euler_001_1  0.000020  0.000096  0.000884  0.008752  0.086390  0.861122   \n",
        "euler_001_2  0.000044  0.000075  0.000420  0.003897  0.037727  0.389774   \n",
        "euler_001_3  0.000014  0.000035  0.000233  0.002206  0.022226  0.231498   \n",
        "euler_001_4  0.000022  0.000099  0.000863  0.008334  0.083874  0.860808   \n",
        "euler_001_5  0.000002  0.000003  0.000003  0.000003  0.000003  0.000003   \n",
        "\n",
        "             10000000  \n",
        "euler_001_0  8.732619  \n",
        "euler_001_1  8.632829  \n",
        "euler_001_2  3.948423  \n",
        "euler_001_3  2.316692  \n",
        "euler_001_4  8.847628  \n",
        "euler_001_5  0.000003  "
       ]
      }
     ],
     "prompt_number": 183
    },
    {
     "cell_type": "code",
     "collapsed": false,
     "input": [
      "df.T.plot()"
     ],
     "language": "python",
     "metadata": {},
     "outputs": [
      {
       "metadata": {},
       "output_type": "pyout",
       "prompt_number": 184,
       "text": [
        "<matplotlib.axes.AxesSubplot at 0x10a8532b0>"
       ]
      },
      {
       "metadata": {},
       "output_type": "display_data",
       "png": "[encoded data removed]",
       "text": [
        "<matplotlib.figure.Figure at 0x105c65c50>"
       ]
      }
     ],
     "prompt_number": 184
    },
    {
     "cell_type": "markdown",
     "metadata": {},
     "source": [
      "_Programming is cool, Maths make it constant._"
     ]
    },
    {
     "cell_type": "code",
     "collapsed": false,
     "input": [],
     "language": "python",
     "metadata": {},
     "outputs": []
    }
   ],
   "metadata": {}
  }
 ]
}